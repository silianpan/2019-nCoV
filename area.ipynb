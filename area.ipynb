{
 "cells": [
  {
   "cell_type": "markdown",
   "metadata": {},
   "source": [
    "# 疫情分析-地区数据"
   ]
  },
  {
   "cell_type": "code",
   "execution_count": null,
   "metadata": {},
   "outputs": [],
   "source": [
    "import numpy as np\n",
    "import pandas as pd\n",
    "\n",
    "# 导入matplotlib库中的额pyplot\n",
    "import matplotlib as mpl\n",
    "import matplotlib.pyplot as plt\n",
    "import seaborn as sns\n",
    "import warnings; warnings.filterwarnings(action='once')\n",
    "# 让图表直接在Jupyter notebook中展示出来\n",
    "%matplotlib inline\n",
    "\n",
    "# 一个cell输出多行语句\n",
    "from IPython.core.interactiveshell import InteractiveShell\n",
    "InteractiveShell.ast_node_interactivity = \"all\"\n",
    "\n",
    "# pyecharts\n",
    "# from pyecharts.charts import Bar\n",
    "# from pyecharts import options as opts\n",
    "# 内置主题类型可查看 pyecharts.globals.ThemeType\n",
    "# from pyecharts.globals import ThemeType\n",
    "\n",
    "plt.style.use('seaborn-whitegrid')\n",
    "sns.set_style(\"white\")\n",
    "large = 22; med = 16; small = 12\n",
    "params = {'axes.titlesize': large,\n",
    "          'legend.fontsize': med,\n",
    "          'figure.figsize': (16, 10),\n",
    "          'axes.labelsize': med,\n",
    "          'axes.titlesize': med,\n",
    "          'xtick.labelsize': med,\n",
    "          'ytick.labelsize': med,\n",
    "          'figure.titlesize': large,\n",
    "          # 解决负号无法正常显示的问题\n",
    "          'axes.unicode_minus': False,\n",
    "          # 解决中文乱码问题\n",
    "          'font.sans-serif': ['SimHei']}\n",
    "plt.rcParams.update(params)\n",
    "# 默认设置下matplotlib做出来的图标不是很清晰，可以将图表设置成矢量格式显示\n",
    "%config InlineBackend.figure_format = 'svg'\n",
    "\n",
    "# Version\n",
    "print(mpl.__version__)  #> 3.0.0\n",
    "print(sns.__version__)  #> 0.9.0"
   ]
  },
  {
   "cell_type": "code",
   "execution_count": null,
   "metadata": {
    "scrolled": false
   },
   "outputs": [],
   "source": [
    "# Prepare Data\n",
    "df = pd.read_csv('data/csv/DXYArea.csv', encoding='utf8')\n",
    "df.loc[0]\n",
    "# 过滤数据\n",
    "df = df[df['province_confirmedCount'] > 1000]\n",
    "# 1. 分组拆分\n",
    "# df = df.groupby('countryName')[['province_confirmedCount']].max()\n",
    "# 2. 应用-拆分\n",
    "def topNotZero(df):\n",
    "    return df.sort_values(by='province_confirmedCount', ascending=False)[0]\n",
    "df = df.groupby('countryName').apply(topNotZero)\n",
    "\n",
    "df['colors'] = ['green' if x < 5000 else 'red' for x in df['province_confirmedCount']]\n",
    "df.sort_values('province_confirmedCount', ascending=True, inplace=True)\n",
    "df.reset_index(inplace=True)\n",
    "# df = pd.DataFrame(df.head(10))\n",
    "df.tail(10)\n",
    "\n",
    "# Draw plot\n",
    "plt.figure(figsize=(10,20), dpi= 80)\n",
    "plt.hlines(y=df.index, xmin=0, xmax=df['province_confirmedCount'], color=df['colors'], alpha=0.4, linewidth=5)\n",
    "\n",
    "# Decorations\n",
    "plt.gca().set(ylabel='国家', xlabel='人数')\n",
    "plt.yticks(df.index, df['countryName'], fontsize=12)\n",
    "plt.title('全球现存确诊人数', fontdict={'size':20})\n",
    "plt.grid(linestyle='--', alpha=0.5)\n",
    "for x, y in zip(df['province_confirmedCount'], df.index):\n",
    "    plt.text(x+20000, y-0.4, str(x), ha='center', va='bottom', fontsize=10.5)\n",
    "plt.show()"
   ]
  },
  {
   "cell_type": "code",
   "execution_count": null,
   "metadata": {},
   "outputs": [],
   "source": []
  }
 ],
 "metadata": {
  "kernelspec": {
   "display_name": "Python 3",
   "language": "python",
   "name": "python3"
  },
  "language_info": {
   "codemirror_mode": {
    "name": "ipython",
    "version": 3
   },
   "file_extension": ".py",
   "mimetype": "text/x-python",
   "name": "python",
   "nbconvert_exporter": "python",
   "pygments_lexer": "ipython3",
   "version": "3.7.4"
  }
 },
 "nbformat": 4,
 "nbformat_minor": 2
}
