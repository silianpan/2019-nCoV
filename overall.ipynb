{
 "cells": [
  {
   "cell_type": "markdown",
   "metadata": {},
   "source": [
    "# 疫情概况-全国数据"
   ]
  },
  {
   "cell_type": "code",
   "execution_count": 1,
   "metadata": {},
   "outputs": [],
   "source": [
    "import pandas as pd\n",
    "import numpy as np\n",
    "\n",
    "# 导入matplotlib库中的额pyplot\n",
    "import matplotlib.pyplot as plt\n",
    "# 让图表直接在Jupyter notebook中展示出来\n",
    "%matplotlib inline\n",
    "# 解决中文乱码问题\n",
    "plt.rcParams['font.sans-serif'] = ['SimHei']\n",
    "# 解决负号无法正常显示的问题\n",
    "plt.rcParams['axes.unicode_minus'] = False\n",
    "# 默认设置下matplotlib做出来的图标不是很清晰，可以将图表设置成矢量格式显示\n",
    "%config InlineBackend.figure_format = 'svg'\n",
    "\n",
    "# 一个cell输出多行语句\n",
    "from IPython.core.interactiveshell import InteractiveShell\n",
    "InteractiveShell.ast_node_interactivity = \"all\""
   ]
  },
  {
   "cell_type": "code",
   "execution_count": 11,
   "metadata": {},
   "outputs": [
    {
     "data": {
      "text/plain": [
       "_id                                                          5e9a7664ca2f9086962a85af\n",
       "infectSource                                                               该字段已替换为说明2\n",
       "passWay                                                                    该字段已替换为说明3\n",
       "dailyPic                            https://img1.dxycdn.com/2020/0211/763/33959988...\n",
       "dailyPics                           ['https://img1.dxycdn.com/2020/0211/763/339599...\n",
       "summary                                                                           NaN\n",
       "countRemark                                                                       NaN\n",
       "currentConfirmedCount                                                            1794\n",
       "confirmedCount                                                                  84180\n",
       "suspectedCount                                                                   1566\n",
       "curedCount                                                                      77744\n",
       "deadCount                                                                        4642\n",
       "seriousCount                                                                     1017\n",
       "suspectedIncr                                                                      17\n",
       "currentConfirmedIncr                                                              -78\n",
       "confirmedIncr                                                                      31\n",
       "curedIncr                                                                         109\n",
       "deadIncr                                                                            0\n",
       "seriousIncr                                                                       -21\n",
       "virus                                                                      该字段已替换为说明1\n",
       "remark1                                      易感人群：人群普遍易感。老年人及有基础疾病者感染后病情较重，儿童及婴幼儿也有发病\n",
       "remark2                             潜伏期：一般为 3～7 天，最长不超过 14 天，潜伏期内可能存在传染性，其中无症状病例传染...\n",
       "remark3                                                              宿主：野生动物，可能为中华菊头蝠\n",
       "remark4                                                                           NaN\n",
       "remark5                                                                           NaN\n",
       "note1                                                  病毒：SARS-CoV-2，其导致疾病命名 COVID-19\n",
       "note2                                                     传染源：新冠肺炎的患者。无症状感染者也可能成为传染源。\n",
       "note3                                    传播途径：经呼吸道飞沫、接触传播是主要的传播途径。气溶胶传播和消化道等传播途径尚待明确。\n",
       "generalRemark                       1. 3 月 12 日国家卫健委确诊补订遗漏 12 例确诊病例（非 12 日新增），暂无具体...\n",
       "abroadRemark                                                                      NaN\n",
       "marquee                             [{'id': 2094, 'marqueeLabel': '发钱了', 'marqueeC...\n",
       "quanguoTrendChart                   [{'imgUrl': 'https://img1.dxycdn.com/2020/0324...\n",
       "hbFeiHbTrendChart                   [{'imgUrl': 'https://img1.dxycdn.com/2020/0326...\n",
       "foreignTrendChart                   [{'imgUrl': 'https://img1.dxycdn.com/2020/0320...\n",
       "importantForeignTrendChart          [{'imgUrl': 'https://img1.dxycdn.com/2020/0320...\n",
       "foreignTrendChartGlobal             [{'imgUrl': 'https://img1.dxycdn.com/2020/0319...\n",
       "importantForeignTrendChartGlobal    [{'imgUrl': 'https://img1.dxycdn.com/2020/0319...\n",
       "foreignStatistics                   {'currentConfirmedCount': 1486303, 'confirmedC...\n",
       "globalStatistics                    {'currentConfirmedCount': 1488097, 'confirmedC...\n",
       "globalOtherTrendChartData           https://file1.dxycdn.com/2020/0418/233/3408432...\n",
       "updateTime                                                        2020-04-18 11:39:16\n",
       "Name: 0, dtype: object"
      ]
     },
     "execution_count": 11,
     "metadata": {},
     "output_type": "execute_result"
    }
   ],
   "source": [
    "data = pd.read_csv('data/csv/DXYOverall.csv')\n",
    "data.loc[0]"
   ]
  },
  {
   "cell_type": "code",
   "execution_count": null,
   "metadata": {},
   "outputs": [],
   "source": []
  }
 ],
 "metadata": {
  "kernelspec": {
   "display_name": "Python 3",
   "language": "python",
   "name": "python3"
  },
  "language_info": {
   "codemirror_mode": {
    "name": "ipython",
    "version": 3
   },
   "file_extension": ".py",
   "mimetype": "text/x-python",
   "name": "python",
   "nbconvert_exporter": "python",
   "pygments_lexer": "ipython3",
   "version": "3.7.4"
  }
 },
 "nbformat": 4,
 "nbformat_minor": 2
}
